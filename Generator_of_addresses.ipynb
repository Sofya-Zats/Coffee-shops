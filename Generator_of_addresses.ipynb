{
 "cells": [
  {
   "cell_type": "code",
   "execution_count": 41,
   "id": "9e54e837-9200-4acb-aa6c-84baa924aec5",
   "metadata": {
    "scrolled": true
   },
   "outputs": [],
   "source": [
    "\n",
    "\n",
    "######\n",
    "from faker import Faker\n",
    "import pandas as pd\n",
    "\n",
    "fake = Faker(locale='en_US')\n",
    "\n",
    "def createAddresses(num_of_addresses):\n",
    "    # Creating an empty list to add our address dictionaries\n",
    "    Addresses_list = []  \n",
    "    for _ in range(1, num_of_addresses):  # Loop through the number of addresses\n",
    "        Address = {}  # Initialize an empty dictionary\n",
    "        # Creating address dictionaries\n",
    "        Address[\"street_address\"] = fake.street_address()\n",
    "        Address[\"street_address_second_line\"] = fake.building_number()\n",
    "        Address[\"city country\"] = fake.random_element(elements=(\n",
    "            \"New York.US\", \"New York.US\", \"New York.US\", \n",
    "            \"Miami.US\", \"Miami.US\", \"Seattle.US\", \n",
    "            \"Lima.Peru\", \"Lima.Peru\", \"Buenos Aires.Argentina\"))\n",
    "        Address[\"postal_code\"] =fake.postcode()  # Use Faker's `postcode()` method\n",
    "        Addresses_list.append(Address)  # Add the address dictionary to the list\n",
    "\n",
    "    return pd.DataFrame(Addresses_list)\n",
    "\n",
    "\n"
   ]
  },
  {
   "cell_type": "code",
   "execution_count": 45,
   "id": "aedccb59-4939-45bd-863b-1f03b8778047",
   "metadata": {},
   "outputs": [],
   "source": [
    "data_addresses=createAddresses(999)\n",
    "data_addresses.to_csv('Customers_Addresses.csv')"
   ]
  },
  {
   "cell_type": "code",
   "execution_count": null,
   "id": "947d4a87-b0c6-427d-8489-b29cfab87b1b",
   "metadata": {},
   "outputs": [],
   "source": []
  }
 ],
 "metadata": {
  "kernelspec": {
   "display_name": "Python [conda env:base] *",
   "language": "python",
   "name": "conda-base-py"
  },
  "language_info": {
   "codemirror_mode": {
    "name": "ipython",
    "version": 3
   },
   "file_extension": ".py",
   "mimetype": "text/x-python",
   "name": "python",
   "nbconvert_exporter": "python",
   "pygments_lexer": "ipython3",
   "version": "3.12.3"
  }
 },
 "nbformat": 4,
 "nbformat_minor": 5
}
