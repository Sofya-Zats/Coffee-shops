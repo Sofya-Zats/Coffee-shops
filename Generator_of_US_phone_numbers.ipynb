{
 "cells": [
  {
   "cell_type": "code",
   "execution_count": 33,
   "id": "fb9cc4dc-2a96-40dc-8556-ea5f3c271b8d",
   "metadata": {},
   "outputs": [],
   "source": [
    "from faker import Faker\n",
    "import pandas as pd\n",
    "fake=Faker(locale='en_US')\n",
    "\n",
    "def createPhoneNumbers(num_of_phone_numbers):\n",
    " PhoneNumbers_list=[]  \n",
    "\n",
    " for _ in range(1,num_of_phone_numbers):\n",
    "   PhoneNumbers_list.append(fake.msisdn())\n",
    " return pd.DataFrame(PhoneNumbers_list)\n",
    "\n"
   ]
  },
  {
   "cell_type": "code",
   "execution_count": 35,
   "id": "94b68eb1-28b5-4ff3-8f26-d34974069761",
   "metadata": {},
   "outputs": [],
   "source": [
    "data_phone_numbers=createPhoneNumbers(1050)\n",
    "data_phone_numbers.to_csv('phone_numbers.csv')"
   ]
  },
  {
   "cell_type": "code",
   "execution_count": null,
   "id": "eb8ba861-3bb0-4bc7-9ffc-840f6ce35a7b",
   "metadata": {},
   "outputs": [],
   "source": []
  },
  {
   "cell_type": "code",
   "execution_count": null,
   "id": "df9f83f6-0c3f-4216-a530-cd0e601c2ee8",
   "metadata": {},
   "outputs": [],
   "source": []
  },
  {
   "cell_type": "code",
   "execution_count": null,
   "id": "917542d4-f37b-4197-86dc-741261c5b086",
   "metadata": {},
   "outputs": [],
   "source": []
  }
 ],
 "metadata": {
  "kernelspec": {
   "display_name": "Python [conda env:base] *",
   "language": "python",
   "name": "conda-base-py"
  },
  "language_info": {
   "codemirror_mode": {
    "name": "ipython",
    "version": 3
   },
   "file_extension": ".py",
   "mimetype": "text/x-python",
   "name": "python",
   "nbconvert_exporter": "python",
   "pygments_lexer": "ipython3",
   "version": "3.12.3"
  }
 },
 "nbformat": 4,
 "nbformat_minor": 5
}
