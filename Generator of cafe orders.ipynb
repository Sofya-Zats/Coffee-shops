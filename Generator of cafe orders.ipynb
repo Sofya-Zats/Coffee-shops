{
 "cells": [
  {
   "cell_type": "code",
   "execution_count": 113,
   "id": "d3682833-42cf-4cd5-a066-82b3e110e0df",
   "metadata": {
    "scrolled": true
   },
   "outputs": [],
   "source": [
    "######\n",
    "from faker import Faker\n",
    "import pandas as pd\n",
    "import random\n",
    "from datetime import datetime\n",
    "from random import randrange\n",
    "\n",
    "fake = Faker(locale='en_US')\n",
    "\n",
    "\n",
    "def createOrders(num_of_orders):\n",
    "    # Creating an empty list to add our address dictionaries\n",
    "    Orders_list = []  \n",
    "    for i in range(1, num_of_orders):  # Loop through the number of addresses\n",
    "        Order = {}  # Initialize an empty dictionary\n",
    "        # Creating address dictionaries\n",
    "        Order[\"order_id\"] = i\n",
    "        \n",
    "         #there should be several rows with same order_id and different item_id's \n",
    "         #in this first version there is only one item_id for each order_id \n",
    "        #will need to add duplicate rows with different values for item_id and item_quantity \n",
    "        Order[\"item_id\"] = fake.random_element(elements=(1,2,3,4,5,6,7))\n",
    "\n",
    "        #  pair (customer_id+payment_id) in table orders needs to be identical with\n",
    "        # the pair (customer_id+payment_id) in table payment\n",
    "        # table payment has been already created with payment_id ranging 1-500\n",
    "        # i will pull up customer_id later from payment_table using vlookup\n",
    "        Order[\"customer_id\"] = '999'\n",
    "        Order[\"cafe_id\"] = fake.random_element(elements=(1,2,3,4,5))\n",
    "        Order[\"payment_id\"] = i\n",
    "        Order[\"delivery\"] = fake.random_element(elements=(\"TRUE\",\"FALSE\"))\n",
    "         # the pair (customer_id+delivery_address_id) in table orders\n",
    "         # needs to be identical with\n",
    "         # the pair (customer_id+payment_id) in table customer\n",
    "         # table customer has been already created with customer_id ranging 1-500\n",
    "         # i will pull up delivery_address_id later from payment_table using vlookup\n",
    "        Order[\"delivery_address_id\"] = '999'\n",
    "\n",
    "       \n",
    "        # created_at is a random date between 2/15/2020-2/21/2025\n",
    "        \n",
    "        Order[\"created_at\"] = str(fake.date_between_dates(\"-5y\",\"+1w\"))+\" \"+str(fake.time(pattern='%H:%M:%S'))\n",
    "        # Order[\"created_at\"] =fake.date_between_dates(\"-5y\",\"+1w\")\n",
    "        #Order[\"created_at_time_stamp\"]=fake.time(pattern='%H:%M:%S')\n",
    "        Order[\"item_quantity\"] =fake.random_element(elements=(1,1,1,1,1,1,2,2,2,2,3,4))\n",
    "        Order[\"customer_modifications\"] =fake.random_element(elements=(\" \",\" \",\" \",\" \",\"Add extra utensils please\",\n",
    "                                                                       \"No utensils\"))\n",
    "        #if it is a delivery order then we're filling up delivery note\n",
    "        #with either blanks or delivery instructions for currier\n",
    "        if  Order[\"delivery\"]==\"TRUE\":\n",
    "         Order[\"delivery_notes\"] =fake.random_element(elements=(\" \",\" \",\"Leave at the reception\",\n",
    "                                                                \"Contactless delivery.Leave at my doorsteps\",\n",
    "                                                                \"Please dont call.Text instead\"))                                                    \n",
    "        #if it is not a delivery order then  we're filling up delivery note with blanks                                           \n",
    "        if  Order[\"delivery\"]==\"FALSE\": \n",
    "         Order[\"delivery_notes\"] =\" \"\n",
    "        Orders_list.append(Order)  # Add the address dictionary to the list\n",
    "\n",
    "    return pd.DataFrame(Orders_list)\n",
    "\n",
    "data_orders=createOrders(999)\n",
    "data_orders.to_csv('Orders2.csv')"
   ]
  },
  {
   "cell_type": "code",
   "execution_count": null,
   "id": "c146e2c1-27b1-4e47-a993-fb96c45a2e73",
   "metadata": {
    "scrolled": true
   },
   "outputs": [],
   "source": []
  },
  {
   "cell_type": "code",
   "execution_count": null,
   "id": "df04fb91-7df4-4094-bfba-1f7686774d97",
   "metadata": {},
   "outputs": [],
   "source": [
    "\n",
    "\n",
    "\n"
   ]
  },
  {
   "cell_type": "code",
   "execution_count": null,
   "id": "7e5a2851-8a31-4d5b-b2f5-601a39f28aad",
   "metadata": {},
   "outputs": [],
   "source": []
  },
  {
   "cell_type": "code",
   "execution_count": null,
   "id": "a2a309c0-a545-46b6-9f84-c3621a9eafdb",
   "metadata": {},
   "outputs": [],
   "source": []
  }
 ],
 "metadata": {
  "kernelspec": {
   "display_name": "Python [conda env:base] *",
   "language": "python",
   "name": "conda-base-py"
  },
  "language_info": {
   "codemirror_mode": {
    "name": "ipython",
    "version": 3
   },
   "file_extension": ".py",
   "mimetype": "text/x-python",
   "name": "python",
   "nbconvert_exporter": "python",
   "pygments_lexer": "ipython3",
   "version": "3.12.3"
  }
 },
 "nbformat": 4,
 "nbformat_minor": 5
}
