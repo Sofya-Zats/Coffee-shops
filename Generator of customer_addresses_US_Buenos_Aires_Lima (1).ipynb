{
 "cells": [
  {
   "cell_type": "markdown",
   "id": "803e1247-bb6f-4c5d-9ddb-c548dd3dff14",
   "metadata": {},
   "source": [
    "\n",
    " Generates address.csv file with addresses (Address_id for customers start with address_id=36 because address_id's 1-5                reserved for cafe_id;address_id's 6-35 reserved for employee_id)\n",
    " Generates customer.csv file with customers \n",
    "   where each row has \n",
    "   -address_id that are already in address.csv (address_id's 1-5 contain cafe_id;address_id's 6-35 contain employee_id)\n",
    " Generates payment.csv file with payments where each row has \n",
    "   -customer_id that is already in customer.csv  \n",
    " Generates orders.csv file with orders where each row has \n",
    "   -customer_id that is already in customer.csv \n",
    "   -payment_id that is already in payment.csv\n",
    "   -if delivery=true than orders.delivery_address_id has address_id that are already in address.csv\n",
    "     "
   ]
  },
  {
   "cell_type": "code",
   "execution_count": 28,
   "id": "f00a51c7-72c1-4025-b0b9-3c65939b3811",
   "metadata": {
    "scrolled": true
   },
   "outputs": [],
   "source": [
    "from faker import Faker\n",
    "import pandas as pd\n",
    "\n",
    "fake = Faker(locale='en_US')\n",
    "fake_latam = Faker(locale='es_AR') #instance of Faker for Latin American addresses\n",
    "\n",
    "\n",
    "#createAddresses creates a list of addresses\n",
    "def createAddresses(num_of_addresses):\n",
    "   \n",
    "    # Creating an empty list to add our address dictionaries\n",
    "    Addresses_list = [] \n",
    "    # Loop through the number of addresses starting with 36 (address_id=36 is the address of the first customer)\n",
    "    for i in range(36, num_of_addresses):  \n",
    "        Address = {}  # Initialize an empty dictionary\n",
    "        Address_ = {}\n",
    "        Address_[\"address_id\"] =i\n",
    "        Address_[\"city\"]=fake.random_element(elements=(\n",
    "            \"New York\", \"New York\", \"New York\", \n",
    "            \"Miami\", \"Miami\", \"Seattle\", \n",
    "            \"Lima\", \"Lima\", \"Buenos Aires\")) \n",
    "        Address_[\"postal_code\"] =fake.postcode()  # Use Faker's `postcode()` method\n",
    "        if  Address_[\"city\"]==\"New York\":\n",
    "            Address_[\"country\"]=\"USA\"\n",
    "        elif  Address_[\"city\"]==\"Miami\":\n",
    "              Address_[\"country\"]=\"USA\"\n",
    "        elif  Address_[\"city\"]==\"Seattle\":\n",
    "              Address_[\"country\"]=\"USA\"\n",
    "        elif  Address_[\"city\"]==\"Buenos Aires\":\n",
    "              Address_[\"country\"]=\"Argentina\"  \n",
    "        elif  Address_[\"city\"]==\"Lima\":\n",
    "              Address_[\"country\"]=\"Peru\"  \n",
    "            \n",
    "        if Address_[\"country\"]==\"USA\":          \n",
    "           Address_[\"street_address\"] =  Faker(locale='en_US').street_address()\n",
    "        elif Address_[\"country\"]==\"Argentina\":          \n",
    "           Address_[\"street_address\"] = fake_latam.street_address()\n",
    "        elif Address_[\"country\"]==\"Peru\":          \n",
    "           Address_[\"street_address\"] = fake_latam.street_address()  \n",
    "            \n",
    "        Address_[\"street_address_second_line\"] = fake.building_number()\n",
    "        Address_[\"last_update\"] = str(fake.date_between_dates(\"-5y\",\"+1w\"))+\" \"+str(fake.time(pattern='%H:%M:%S'))\n",
    "\n",
    "        \n",
    "        #Placing all columns in correct order for our database\n",
    "        Address[\"address_id\"]=Address_[\"address_id\"]\n",
    "        Address[\"street_address\"] =Address_[\"street_address\"] \n",
    "        Address[\"street_address_second_line\"] =Address_[\"street_address_second_line\"]\n",
    "        Address[\"city\"]=Address_[\"city\"]\n",
    "        Address[\"postal_code\"]= Address_[\"postal_code\"]\n",
    "        Address[\"country\"]=Address_[\"country\"]\n",
    "        Address[\"last_update\"] =Address_[\"last_update\"]\n",
    "        \n",
    "        Addresses_list.append(Address)  # Add the address dictionary to the list\n",
    "\n",
    "    return pd.DataFrame(Addresses_list)\n",
    "data_addresses=createAddresses(999)\n",
    "data_addresses.to_csv('Customers_Addresses.csv',index=False)"
   ]
  },
  {
   "cell_type": "code",
   "execution_count": null,
   "id": "76a190aa-40af-4314-8ec2-3c94db278554",
   "metadata": {},
   "outputs": [],
   "source": []
  },
  {
   "cell_type": "code",
   "execution_count": null,
   "id": "f9381eb5-e3f6-41e5-991d-8e4858fc0e93",
   "metadata": {
    "jupyter": {
     "source_hidden": true
    }
   },
   "outputs": [],
   "source": []
  }
 ],
 "metadata": {
  "kernelspec": {
   "display_name": "Python [conda env:base] *",
   "language": "python",
   "name": "conda-base-py"
  },
  "language_info": {
   "codemirror_mode": {
    "name": "ipython",
    "version": 3
   },
   "file_extension": ".py",
   "mimetype": "text/x-python",
   "name": "python",
   "nbconvert_exporter": "python",
   "pygments_lexer": "ipython3",
   "version": "3.12.3"
  }
 },
 "nbformat": 4,
 "nbformat_minor": 5
}
